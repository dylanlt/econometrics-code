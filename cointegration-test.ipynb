{
  "nbformat": 4,
  "nbformat_minor": 0,
  "metadata": {
    "colab": {
      "name": "Untitled0.ipynb",
      "provenance": []
    },
    "kernelspec": {
      "name": "python3",
      "display_name": "Python 3"
    }
  },
  "cells": [
    {
      "cell_type": "code",
      "metadata": {
        "id": "pxVUy6r4hXkj",
        "colab_type": "code",
        "colab": {
          "base_uri": "https://localhost:8080/",
          "height": 221
        },
        "outputId": "f3d8d4e1-9993-4580-9378-8f49142b8cec"
      },
      "source": [
        "!pip install yfinance\n",
        "import yfinance as yf"
      ],
      "execution_count": 36,
      "outputs": [
        {
          "output_type": "stream",
          "text": [
            "Requirement already satisfied: yfinance in /usr/local/lib/python3.6/dist-packages (0.1.54)\n",
            "Requirement already satisfied: multitasking>=0.0.7 in /usr/local/lib/python3.6/dist-packages (from yfinance) (0.0.9)\n",
            "Requirement already satisfied: numpy>=1.15 in /usr/local/lib/python3.6/dist-packages (from yfinance) (1.18.5)\n",
            "Requirement already satisfied: requests>=2.20 in /usr/local/lib/python3.6/dist-packages (from yfinance) (2.23.0)\n",
            "Requirement already satisfied: pandas>=0.24 in /usr/local/lib/python3.6/dist-packages (from yfinance) (1.0.5)\n",
            "Requirement already satisfied: idna<3,>=2.5 in /usr/local/lib/python3.6/dist-packages (from requests>=2.20->yfinance) (2.10)\n",
            "Requirement already satisfied: certifi>=2017.4.17 in /usr/local/lib/python3.6/dist-packages (from requests>=2.20->yfinance) (2020.6.20)\n",
            "Requirement already satisfied: urllib3!=1.25.0,!=1.25.1,<1.26,>=1.21.1 in /usr/local/lib/python3.6/dist-packages (from requests>=2.20->yfinance) (1.24.3)\n",
            "Requirement already satisfied: chardet<4,>=3.0.2 in /usr/local/lib/python3.6/dist-packages (from requests>=2.20->yfinance) (3.0.4)\n",
            "Requirement already satisfied: python-dateutil>=2.6.1 in /usr/local/lib/python3.6/dist-packages (from pandas>=0.24->yfinance) (2.8.1)\n",
            "Requirement already satisfied: pytz>=2017.2 in /usr/local/lib/python3.6/dist-packages (from pandas>=0.24->yfinance) (2018.9)\n",
            "Requirement already satisfied: six>=1.5 in /usr/local/lib/python3.6/dist-packages (from python-dateutil>=2.6.1->pandas>=0.24->yfinance) (1.15.0)\n"
          ],
          "name": "stdout"
        }
      ]
    },
    {
      "cell_type": "code",
      "metadata": {
        "id": "wbzu42PkiZ74",
        "colab_type": "code",
        "colab": {
          "base_uri": "https://localhost:8080/",
          "height": 34
        },
        "outputId": "3935ceef-00da-4611-ad16-11e5e098e393"
      },
      "source": [
        "from pandas_datareader import data as pdr\n",
        "yf.pdr_override() \n",
        "asset = pdr.get_data_yahoo(\"MSFT\", start=\"1986-03-13\", end=\"2020-08-10\")"
      ],
      "execution_count": 37,
      "outputs": [
        {
          "output_type": "stream",
          "text": [
            "\r[*********************100%***********************]  1 of 1 completed\n"
          ],
          "name": "stdout"
        }
      ]
    },
    {
      "cell_type": "code",
      "metadata": {
        "id": "0buH_k-erij3",
        "colab_type": "code",
        "colab": {
          "base_uri": "https://localhost:8080/",
          "height": 51
        },
        "outputId": "40d046b9-dbce-4856-8689-beb2612d3abd"
      },
      "source": [
        "import numpy as np\n",
        "\n",
        "#returns = asset[\"Adj Close\"].pct_change()\n",
        "returns = np.log(asset[\"Adj Close\"]).diff().dropna()\n",
        "\n",
        "print(\"daily returns mean : \" + str(returns.mean()))\n",
        "print(\"daily returns standard deviation : \" + str(returns.std()))"
      ],
      "execution_count": 38,
      "outputs": [
        {
          "output_type": "stream",
          "text": [
            "daily returns mean : 0.0009382112217800671\n",
            "daily returns standard deviation : 0.02159447613283607\n"
          ],
          "name": "stdout"
        }
      ]
    },
    {
      "cell_type": "code",
      "metadata": {
        "id": "ZJDTIPRRqpbw",
        "colab_type": "code",
        "colab": {
          "base_uri": "https://localhost:8080/",
          "height": 545
        },
        "outputId": "23bb7538-7c04-4461-ee04-6b7c4eaa4a32"
      },
      "source": [
        "sma100 = asset[\"Adj Close\"].rolling(window=100).mean()\n",
        "\n",
        "import matplotlib.pyplot as plt\n",
        "\n",
        "plt.title(\"Closing Price\")\n",
        "plt.plot(asset['Adj Close'])\n",
        "plt.show()\n",
        "\n",
        "plt.title(\"SMA100 of Closing Price\")\n",
        "plt.plot(sma100)\n",
        "plt.show()"
      ],
      "execution_count": 39,
      "outputs": [
        {
          "output_type": "display_data",
          "data": {
            "image/png": "[encoded data removed]",
            "text/plain": [
              "<Figure size 432x288 with 1 Axes>"
            ]
          },
          "metadata": {
            "tags": [],
            "needs_background": "light"
          }
        },
        {
          "output_type": "display_data",
          "data": {
            "image/png": "[encoded data removed]",
            "text/plain": [
              "<Figure size 432x288 with 1 Axes>"
            ]
          },
          "metadata": {
            "tags": [],
            "needs_background": "light"
          }
        }
      ]
    },
    {
      "cell_type": "markdown",
      "metadata": {
        "id": "na7SHy6at6IZ",
        "colab_type": "text"
      },
      "source": [
        "Check that there are at least 2000 data points:"
      ]
    },
    {
      "cell_type": "code",
      "metadata": {
        "id": "D-QobcuSsxrb",
        "colab_type": "code",
        "colab": {
          "base_uri": "https://localhost:8080/",
          "height": 34
        },
        "outputId": "05d84488-a0d5-494d-f0f3-20ff4254968f"
      },
      "source": [
        "assert returns.count() > 1999, \"Insufficient asset history for the next test\"\n",
        "returns.count()"
      ],
      "execution_count": 40,
      "outputs": [
        {
          "output_type": "execute_result",
          "data": {
            "text/plain": [
              "8672"
            ]
          },
          "metadata": {
            "tags": []
          },
          "execution_count": 40
        }
      ]
    },
    {
      "cell_type": "code",
      "metadata": {
        "id": "udLq7r9ey6GL",
        "colab_type": "code",
        "colab": {
          "base_uri": "https://localhost:8080/",
          "height": 281
        },
        "outputId": "f093ce53-e4f8-49ae-df4b-57df21e0119a"
      },
      "source": [
        "plt.title(\"Daily Returns\")\n",
        "plt.plot(returns)\n",
        "plt.show()"
      ],
      "execution_count": 41,
      "outputs": [
        {
          "output_type": "display_data",
          "data": {
            "image/png": "[encoded data removed]",
            "text/plain": [
              "<Figure size 432x288 with 1 Axes>"
            ]
          },
          "metadata": {
            "tags": [],
            "needs_background": "light"
          }
        }
      ]
    },
    {
      "cell_type": "code",
      "metadata": {
        "id": "NB1C3xQ55Zrt",
        "colab_type": "code",
        "colab": {
          "base_uri": "https://localhost:8080/",
          "height": 282
        },
        "outputId": "55a52291-5178-43d3-b4d3-79eb1cc418ee"
      },
      "source": [
        "returns.hist(bins=100)"
      ],
      "execution_count": 42,
      "outputs": [
        {
          "output_type": "execute_result",
          "data": {
            "text/plain": [
              "<matplotlib.axes._subplots.AxesSubplot at 0x7fe6bb0e8160>"
            ]
          },
          "metadata": {
            "tags": []
          },
          "execution_count": 42
        },
        {
          "output_type": "display_data",
          "data": {
            "image/png": "[encoded data removed]",
            "text/plain": [
              "<Figure size 432x288 with 1 Axes>"
            ]
          },
          "metadata": {
            "tags": [],
            "needs_background": "light"
          }
        }
      ]
    },
    {
      "cell_type": "code",
      "metadata": {
        "id": "xPzKH3qMjHZz",
        "colab_type": "code",
        "colab": {
          "base_uri": "https://localhost:8080/",
          "height": 68
        },
        "outputId": "b8db619c-895e-4f63-c2e1-29c3fb16c43c"
      },
      "source": [
        "from scipy import stats\n",
        "#test1 = stats.normaltest(returns)\n",
        "jb, p = stats.jarque_bera(returns)\n",
        "print(jb)\n",
        "print(\"p value = \" + str(p))\n",
        "if (p < 0.05):\n",
        "  print(\"the hypothesis for normal distribution is rejected\")\n",
        "else:\n",
        "  print(\"the hypothesis for normal distribution is accepted\")"
      ],
      "execution_count": 51,
      "outputs": [
        {
          "output_type": "stream",
          "text": [
            "83802.56623834255\n",
            "p value = 0.0\n",
            "the hypothesis for normal distribution is rejected\n"
          ],
          "name": "stdout"
        }
      ]
    },
    {
      "cell_type": "code",
      "metadata": {
        "id": "Fjk5YqVboMdk",
        "colab_type": "code",
        "colab": {
          "base_uri": "https://localhost:8080/",
          "height": 34
        },
        "outputId": "909841b8-3a12-43c6-b52d-4029a0b801e2"
      },
      "source": [
        "# for the correlation data we can use economic indicators but they are (mostly) \n",
        "#     monthly frequency so the number of observations will be reduced\n",
        "# https://fred.stlouisfed.org/categories/\n",
        "# https://databank.worldbank.org/reports.aspx?source=global-economic-monitor-%28gem%29\n",
        "# for now just use another asset to get data\n",
        "\n",
        "compareAsset = pdr.get_data_yahoo(\"AAPL\", start=\"1986-03-13\", end=\"2020-08-10\")\n",
        "compareReturns = np.log(compareAsset[\"Adj Close\"]).diff().dropna()"
      ],
      "execution_count": 44,
      "outputs": [
        {
          "output_type": "stream",
          "text": [
            "\r[*********************100%***********************]  1 of 1 completed\n"
          ],
          "name": "stdout"
        }
      ]
    },
    {
      "cell_type": "code",
      "metadata": {
        "id": "5d9__SX03WG_",
        "colab_type": "code",
        "colab": {
          "base_uri": "https://localhost:8080/",
          "height": 235
        },
        "outputId": "0e17513c-4123-42f6-f3fd-32e64d940455"
      },
      "source": [
        "import pandas as pd\n",
        "data = pd.DataFrame(\n",
        "    {'asset': returns,\n",
        "     'indicator': compareReturns\n",
        "    })\n",
        "data.head()\n"
      ],
      "execution_count": 45,
      "outputs": [
        {
          "output_type": "execute_result",
          "data": {
            "text/html": [
              "<div>\n",
              "<style scoped>\n",
              "    .dataframe tbody tr th:only-of-type {\n",
              "        vertical-align: middle;\n",
              "    }\n",
              "\n",
              "    .dataframe tbody tr th {\n",
              "        vertical-align: top;\n",
              "    }\n",
              "\n",
              "    .dataframe thead th {\n",
              "        text-align: right;\n",
              "    }\n",
              "</style>\n",
              "<table border=\"1\" class=\"dataframe\">\n",
              "  <thead>\n",
              "    <tr style=\"text-align: right;\">\n",
              "      <th></th>\n",
              "      <th>asset</th>\n",
              "      <th>indicator</th>\n",
              "    </tr>\n",
              "    <tr>\n",
              "      <th>Date</th>\n",
              "      <th></th>\n",
              "      <th></th>\n",
              "    </tr>\n",
              "  </thead>\n",
              "  <tbody>\n",
              "    <tr>\n",
              "      <th>1986-03-14</th>\n",
              "      <td>0.035092</td>\n",
              "      <td>0.054067</td>\n",
              "    </tr>\n",
              "    <tr>\n",
              "      <th>1986-03-17</th>\n",
              "      <td>0.017095</td>\n",
              "      <td>-0.004796</td>\n",
              "    </tr>\n",
              "    <tr>\n",
              "      <th>1986-03-18</th>\n",
              "      <td>-0.025753</td>\n",
              "      <td>0.033100</td>\n",
              "    </tr>\n",
              "    <tr>\n",
              "      <th>1986-03-19</th>\n",
              "      <td>-0.017544</td>\n",
              "      <td>-0.014051</td>\n",
              "    </tr>\n",
              "    <tr>\n",
              "      <th>1986-03-20</th>\n",
              "      <td>-0.026908</td>\n",
              "      <td>0.063949</td>\n",
              "    </tr>\n",
              "  </tbody>\n",
              "</table>\n",
              "</div>"
            ],
            "text/plain": [
              "               asset  indicator\n",
              "Date                           \n",
              "1986-03-14  0.035092   0.054067\n",
              "1986-03-17  0.017095  -0.004796\n",
              "1986-03-18 -0.025753   0.033100\n",
              "1986-03-19 -0.017544  -0.014051\n",
              "1986-03-20 -0.026908   0.063949"
            ]
          },
          "metadata": {
            "tags": []
          },
          "execution_count": 45
        }
      ]
    },
    {
      "cell_type": "code",
      "metadata": {
        "id": "XwlQE4igGJIw",
        "colab_type": "code",
        "colab": {
          "base_uri": "https://localhost:8080/",
          "height": 85
        },
        "outputId": "a69ef7d7-23aa-4bdb-f9aa-8c7ff594e8e8"
      },
      "source": [
        "# a test based on Augmented Dickey Fuller:\n",
        "# Engle-Granger cointegration test\n",
        "from statsmodels.tsa.stattools import coint\n",
        "t, p, crit = coint(data[\"indicator\"], data[\"asset\"])\n",
        "print(\"critical values = \" + str(crit))\n",
        "print(\"t statistic = \" + str(t))\n",
        "print(\"p value = \" + str(p))\n",
        "if (t < crit[1]):\n",
        "  print(\"the hypothesis for no cointegration is rejected\")\n",
        "else:\n",
        "  print(\"the hypothesis for no cointegration is accepted\")"
      ],
      "execution_count": 54,
      "outputs": [
        {
          "output_type": "stream",
          "text": [
            "critical values = [-3.8977035  -3.33683475 -3.04493916]\n",
            "t statistic = -22.60409454682954\n",
            "p value = 0.0\n",
            "the hypothesis for no cointegration is rejected\n"
          ],
          "name": "stdout"
        }
      ]
    },
    {
      "cell_type": "code",
      "metadata": {
        "id": "wn5b1reaHPIW",
        "colab_type": "code",
        "colab": {}
      },
      "source": [
        "# could use the improved version but it has a different output schema:\n",
        "# Johansen test cointegration test\n",
        "# from statsmodels.tsa.vector_ar.vecm import coint_johansen\n",
        "# jt = coint_johansen(data, det_order=0, k_ar_diff=1)\n"
      ],
      "execution_count": 47,
      "outputs": []
    }
  ]
}